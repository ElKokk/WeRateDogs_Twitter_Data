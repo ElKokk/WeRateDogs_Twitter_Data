{
 "cells": [
  {
   "cell_type": "markdown",
   "metadata": {},
   "source": [
    "# Udacity Project: Wrangle and Analyze Data\n",
    "\n",
    "## Wrangle Report"
   ]
  },
  {
   "cell_type": "markdown",
   "metadata": {},
   "source": [
    "As a first step in this project, we downloaded the WeRateDogs Twitter archive directly from Udacity and uploaded it on the notebook's directory.\n",
    "Then, by making use of the `Request` library, we downloaded programmatically the `'image-predictions.tsv'` file which included predictions for the breed of each dog that were produced through a Neural Network.\n",
    "\n",
    "We also used the Tweepy library to query Twitter's API in order to gather additional data about each tweet of the WeRateDogs account. All the datasets were then imported into three separate dataframes.\n",
    "\n",
    "Each DataFrame was thoroughly assessed, both visually as well as programmatically by making use of several of the Pandas functions, such as `info()`,`describe()`,`value_counts()`,`isnull()`,`head()` and more.\n",
    "\n",
    "Several Quality and Tidiness issues were spotted and cleaned and the rules of tidy data were followed. First we created copies of the existing dataframes in order to be able to visit them back again in their uncleaned form.\n",
    "\n",
    "More specifically the **Tidiness** issues included:\n",
    " - The merging of the three tweet tables to gather up all the relevant information in a single DataFrame\n",
    " - The handling of the dog stage columns which were merged in a single column.\n",
    " \n",
    " The **Quality** issues included things like:\n",
    " - Erroneous data types that were fixed\n",
    " - Erroneous information on specific column such as names and ratings\n",
    " - Handling of duplicate data\n",
    " - Handling of missing data\n",
    " - Removal of non relevant columns\n",
    " - Extraction of information on the tweet source from the source column\n",
    " - Making sure that only original tweets were included\n",
    " \n",
    "In order to fix wront or incosistent data types we made use of the string methods `.str.astype()` and brought all `tweet_id` key columns to a string type, the `timestamp` to a datetime object and the dog stages to categorical types.\n",
    "\n",
    "The rating were fixed where possible by re-extracting the numerator and denominator using a regular expression. Then a new column was created with the division of these numbers and the outliers were removed to make sure that we mostly keep correct data.\n",
    "\n",
    "The tweet sources extracting using the string method `str.split()` and iterating through the column.\n",
    "\n",
    "The favorite counts were including a lot of zeros which was most likely wrong due their respective large amount of retweets. The zeros were replaced with NaN and then imputed with the mean().\n",
    "\n",
    "Many erroneous dog names were fixed by checking which entries were lower, which upper and which mixed case. They were then replaced with None.\n",
    "\n",
    "Duplicated image urls were spotted using the `duplicated()` function, masking the main dataframe and removing them since they would interfere with our statistics.\n",
    "\n",
    "Dog names were standardized and all converted to lower case letters.\n",
    "\n",
    "Redundant and irrelevant columns were finally removed.\n",
    "\n",
    "For the Tidiness issues, we merged the three dataframes using pandas pd.concat() function.\n",
    "\n",
    "At last, the dog stages were all merged into one column as they were different values of the same variable. For that purpose we first replace the None values with empty strings and created a new stage column by adding the individual dog stage columns. Then we located the cases where multiple stages existed and separated them with a comma.\n",
    "\n",
    "After the cleaning process was completed, the daframes were stored into one master .csv file.\n",
    " "
   ]
  },
  {
   "cell_type": "code",
   "execution_count": null,
   "metadata": {},
   "outputs": [],
   "source": []
  }
 ],
 "metadata": {
  "kernelspec": {
   "display_name": "Python 3",
   "language": "python",
   "name": "python3"
  },
  "language_info": {
   "codemirror_mode": {
    "name": "ipython",
    "version": 3
   },
   "file_extension": ".py",
   "mimetype": "text/x-python",
   "name": "python",
   "nbconvert_exporter": "python",
   "pygments_lexer": "ipython3",
   "version": "3.8.10"
  }
 },
 "nbformat": 4,
 "nbformat_minor": 2
}
